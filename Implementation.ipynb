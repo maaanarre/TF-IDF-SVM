{
 "cells": [
  {
   "cell_type": "markdown",
   "id": "426a3fc2-7a25-49f5-b041-d811663c0889",
   "metadata": {},
   "source": [
    "# A Novel Text Mining Approach Based on TF-IDF and Support Vector Machine for News Classification : Implementation\n"
   ]
  },
  {
   "cell_type": "markdown",
   "id": "8138e754-c38a-44f6-b490-28d320fda6fa",
   "metadata": {},
   "source": [
    "## Load the BBC news dataset "
   ]
  },
  {
   "cell_type": "markdown",
   "id": "07f73c0e-112d-4619-832a-dd9519cda0a0",
   "metadata": {},
   "source": [
    "the dataset is available on kaggle , here is the link : https://www.kaggle.com/datasets/hgultekin/bbcnewsarchive"
   ]
  },
  {
   "cell_type": "code",
   "execution_count": 57,
   "id": "a7e89020-2765-4acf-aca4-aa552b548bea",
   "metadata": {},
   "outputs": [
    {
     "data": {
      "text/html": [
       "<div>\n",
       "<style scoped>\n",
       "    .dataframe tbody tr th:only-of-type {\n",
       "        vertical-align: middle;\n",
       "    }\n",
       "\n",
       "    .dataframe tbody tr th {\n",
       "        vertical-align: top;\n",
       "    }\n",
       "\n",
       "    .dataframe thead th {\n",
       "        text-align: right;\n",
       "    }\n",
       "</style>\n",
       "<table border=\"1\" class=\"dataframe\">\n",
       "  <thead>\n",
       "    <tr style=\"text-align: right;\">\n",
       "      <th></th>\n",
       "      <th>category</th>\n",
       "      <th>filename</th>\n",
       "      <th>title</th>\n",
       "      <th>content</th>\n",
       "    </tr>\n",
       "  </thead>\n",
       "  <tbody>\n",
       "    <tr>\n",
       "      <th>0</th>\n",
       "      <td>business</td>\n",
       "      <td>001.txt</td>\n",
       "      <td>Ad sales boost Time Warner profit</td>\n",
       "      <td>Quarterly profits at US media giant TimeWarne...</td>\n",
       "    </tr>\n",
       "    <tr>\n",
       "      <th>1</th>\n",
       "      <td>business</td>\n",
       "      <td>002.txt</td>\n",
       "      <td>Dollar gains on Greenspan speech</td>\n",
       "      <td>The dollar has hit its highest level against ...</td>\n",
       "    </tr>\n",
       "    <tr>\n",
       "      <th>2</th>\n",
       "      <td>business</td>\n",
       "      <td>003.txt</td>\n",
       "      <td>Yukos unit buyer faces loan claim</td>\n",
       "      <td>The owners of embattled Russian oil giant Yuk...</td>\n",
       "    </tr>\n",
       "    <tr>\n",
       "      <th>3</th>\n",
       "      <td>business</td>\n",
       "      <td>004.txt</td>\n",
       "      <td>High fuel prices hit BA's profits</td>\n",
       "      <td>British Airways has blamed high fuel prices f...</td>\n",
       "    </tr>\n",
       "    <tr>\n",
       "      <th>4</th>\n",
       "      <td>business</td>\n",
       "      <td>005.txt</td>\n",
       "      <td>Pernod takeover talk lifts Domecq</td>\n",
       "      <td>Shares in UK drinks and food firm Allied Dome...</td>\n",
       "    </tr>\n",
       "    <tr>\n",
       "      <th>...</th>\n",
       "      <td>...</td>\n",
       "      <td>...</td>\n",
       "      <td>...</td>\n",
       "      <td>...</td>\n",
       "    </tr>\n",
       "    <tr>\n",
       "      <th>2220</th>\n",
       "      <td>tech</td>\n",
       "      <td>397.txt</td>\n",
       "      <td>BT program to beat dialler scams</td>\n",
       "      <td>BT is introducing two initiatives to help bea...</td>\n",
       "    </tr>\n",
       "    <tr>\n",
       "      <th>2221</th>\n",
       "      <td>tech</td>\n",
       "      <td>398.txt</td>\n",
       "      <td>Spam e-mails tempt net shoppers</td>\n",
       "      <td>Computer users across the world continue to i...</td>\n",
       "    </tr>\n",
       "    <tr>\n",
       "      <th>2222</th>\n",
       "      <td>tech</td>\n",
       "      <td>399.txt</td>\n",
       "      <td>Be careful how you code</td>\n",
       "      <td>A new European directive could put software w...</td>\n",
       "    </tr>\n",
       "    <tr>\n",
       "      <th>2223</th>\n",
       "      <td>tech</td>\n",
       "      <td>400.txt</td>\n",
       "      <td>US cyber security chief resigns</td>\n",
       "      <td>The man making sure US computer networks are ...</td>\n",
       "    </tr>\n",
       "    <tr>\n",
       "      <th>2224</th>\n",
       "      <td>tech</td>\n",
       "      <td>401.txt</td>\n",
       "      <td>Losing yourself in online gaming</td>\n",
       "      <td>Online role playing games are time-consuming,...</td>\n",
       "    </tr>\n",
       "  </tbody>\n",
       "</table>\n",
       "<p>2225 rows × 4 columns</p>\n",
       "</div>"
      ],
      "text/plain": [
       "      category filename                              title  \\\n",
       "0     business  001.txt  Ad sales boost Time Warner profit   \n",
       "1     business  002.txt   Dollar gains on Greenspan speech   \n",
       "2     business  003.txt  Yukos unit buyer faces loan claim   \n",
       "3     business  004.txt  High fuel prices hit BA's profits   \n",
       "4     business  005.txt  Pernod takeover talk lifts Domecq   \n",
       "...        ...      ...                                ...   \n",
       "2220      tech  397.txt   BT program to beat dialler scams   \n",
       "2221      tech  398.txt    Spam e-mails tempt net shoppers   \n",
       "2222      tech  399.txt            Be careful how you code   \n",
       "2223      tech  400.txt    US cyber security chief resigns   \n",
       "2224      tech  401.txt   Losing yourself in online gaming   \n",
       "\n",
       "                                                content  \n",
       "0      Quarterly profits at US media giant TimeWarne...  \n",
       "1      The dollar has hit its highest level against ...  \n",
       "2      The owners of embattled Russian oil giant Yuk...  \n",
       "3      British Airways has blamed high fuel prices f...  \n",
       "4      Shares in UK drinks and food firm Allied Dome...  \n",
       "...                                                 ...  \n",
       "2220   BT is introducing two initiatives to help bea...  \n",
       "2221   Computer users across the world continue to i...  \n",
       "2222   A new European directive could put software w...  \n",
       "2223   The man making sure US computer networks are ...  \n",
       "2224   Online role playing games are time-consuming,...  \n",
       "\n",
       "[2225 rows x 4 columns]"
      ]
     },
     "execution_count": 57,
     "metadata": {},
     "output_type": "execute_result"
    }
   ],
   "source": [
    "df = pd.read_csv('bbc-news-data.csv', sep='\\t')\n",
    "df"
   ]
  },
  {
   "cell_type": "markdown",
   "id": "eb8380cb-5bcd-457e-9536-4de0f3f502d4",
   "metadata": {},
   "source": [
    "delete columns 'filename' and 'title' since we wont need it \n"
   ]
  },
  {
   "cell_type": "code",
   "execution_count": 59,
   "id": "be6df1d1-8620-44e8-9eec-1e6020e486ed",
   "metadata": {},
   "outputs": [],
   "source": [
    "df = df.drop(columns=['filename', 'title'])"
   ]
  },
  {
   "cell_type": "code",
   "execution_count": 61,
   "id": "95789255-90a9-4fa5-bced-3f1fc922176f",
   "metadata": {},
   "outputs": [
    {
     "data": {
      "text/html": [
       "<div>\n",
       "<style scoped>\n",
       "    .dataframe tbody tr th:only-of-type {\n",
       "        vertical-align: middle;\n",
       "    }\n",
       "\n",
       "    .dataframe tbody tr th {\n",
       "        vertical-align: top;\n",
       "    }\n",
       "\n",
       "    .dataframe thead th {\n",
       "        text-align: right;\n",
       "    }\n",
       "</style>\n",
       "<table border=\"1\" class=\"dataframe\">\n",
       "  <thead>\n",
       "    <tr style=\"text-align: right;\">\n",
       "      <th></th>\n",
       "      <th>category</th>\n",
       "      <th>content</th>\n",
       "    </tr>\n",
       "  </thead>\n",
       "  <tbody>\n",
       "    <tr>\n",
       "      <th>0</th>\n",
       "      <td>business</td>\n",
       "      <td>Quarterly profits at US media giant TimeWarne...</td>\n",
       "    </tr>\n",
       "    <tr>\n",
       "      <th>1</th>\n",
       "      <td>business</td>\n",
       "      <td>The dollar has hit its highest level against ...</td>\n",
       "    </tr>\n",
       "    <tr>\n",
       "      <th>2</th>\n",
       "      <td>business</td>\n",
       "      <td>The owners of embattled Russian oil giant Yuk...</td>\n",
       "    </tr>\n",
       "    <tr>\n",
       "      <th>3</th>\n",
       "      <td>business</td>\n",
       "      <td>British Airways has blamed high fuel prices f...</td>\n",
       "    </tr>\n",
       "    <tr>\n",
       "      <th>4</th>\n",
       "      <td>business</td>\n",
       "      <td>Shares in UK drinks and food firm Allied Dome...</td>\n",
       "    </tr>\n",
       "    <tr>\n",
       "      <th>...</th>\n",
       "      <td>...</td>\n",
       "      <td>...</td>\n",
       "    </tr>\n",
       "    <tr>\n",
       "      <th>2220</th>\n",
       "      <td>tech</td>\n",
       "      <td>BT is introducing two initiatives to help bea...</td>\n",
       "    </tr>\n",
       "    <tr>\n",
       "      <th>2221</th>\n",
       "      <td>tech</td>\n",
       "      <td>Computer users across the world continue to i...</td>\n",
       "    </tr>\n",
       "    <tr>\n",
       "      <th>2222</th>\n",
       "      <td>tech</td>\n",
       "      <td>A new European directive could put software w...</td>\n",
       "    </tr>\n",
       "    <tr>\n",
       "      <th>2223</th>\n",
       "      <td>tech</td>\n",
       "      <td>The man making sure US computer networks are ...</td>\n",
       "    </tr>\n",
       "    <tr>\n",
       "      <th>2224</th>\n",
       "      <td>tech</td>\n",
       "      <td>Online role playing games are time-consuming,...</td>\n",
       "    </tr>\n",
       "  </tbody>\n",
       "</table>\n",
       "<p>2225 rows × 2 columns</p>\n",
       "</div>"
      ],
      "text/plain": [
       "      category                                            content\n",
       "0     business   Quarterly profits at US media giant TimeWarne...\n",
       "1     business   The dollar has hit its highest level against ...\n",
       "2     business   The owners of embattled Russian oil giant Yuk...\n",
       "3     business   British Airways has blamed high fuel prices f...\n",
       "4     business   Shares in UK drinks and food firm Allied Dome...\n",
       "...        ...                                                ...\n",
       "2220      tech   BT is introducing two initiatives to help bea...\n",
       "2221      tech   Computer users across the world continue to i...\n",
       "2222      tech   A new European directive could put software w...\n",
       "2223      tech   The man making sure US computer networks are ...\n",
       "2224      tech   Online role playing games are time-consuming,...\n",
       "\n",
       "[2225 rows x 2 columns]"
      ]
     },
     "execution_count": 61,
     "metadata": {},
     "output_type": "execute_result"
    }
   ],
   "source": [
    "df"
   ]
  },
  {
   "cell_type": "markdown",
   "id": "787c47c7-f609-4993-b0a7-547fcfd647db",
   "metadata": {},
   "source": [
    "Extract the labels from the dataset "
   ]
  },
  {
   "cell_type": "code",
   "execution_count": 173,
   "id": "484a7a70-e86d-4867-9158-b9a9875a5288",
   "metadata": {},
   "outputs": [
    {
     "data": {
      "text/plain": [
       "array(['business', 'entertainment', 'politics', 'sport', 'tech'],\n",
       "      dtype=object)"
      ]
     },
     "execution_count": 173,
     "metadata": {},
     "output_type": "execute_result"
    }
   ],
   "source": [
    "labels = df['category'].unique()\n",
    "labels"
   ]
  },
  {
   "cell_type": "markdown",
   "id": "35eb6899-91bb-4da9-9cd6-bcc635192fe0",
   "metadata": {},
   "source": [
    "## Text preprocessing "
   ]
  },
  {
   "cell_type": "markdown",
   "id": "739c626c-ba98-49e4-8937-e371f257dd76",
   "metadata": {},
   "source": [
    "Import necessary library"
   ]
  },
  {
   "cell_type": "code",
   "execution_count": 77,
   "id": "01642465-101e-4d8b-89b4-cc264e9fe1a0",
   "metadata": {},
   "outputs": [
    {
     "name": "stderr",
     "output_type": "stream",
     "text": [
      "[nltk_data] Downloading package punkt to\n",
      "[nltk_data]     C:\\Users\\DELL\\AppData\\Roaming\\nltk_data...\n",
      "[nltk_data]   Package punkt is already up-to-date!\n",
      "[nltk_data] Downloading package wordnet to\n",
      "[nltk_data]     C:\\Users\\DELL\\AppData\\Roaming\\nltk_data...\n",
      "[nltk_data]   Package wordnet is already up-to-date!\n",
      "[nltk_data] Downloading package stopwords to\n",
      "[nltk_data]     C:\\Users\\DELL\\AppData\\Roaming\\nltk_data...\n",
      "[nltk_data]   Package stopwords is already up-to-date!\n"
     ]
    }
   ],
   "source": [
    "# Importing necessary libraries\n",
    "from sklearn.model_selection import train_test_split\n",
    "import nltk\n",
    "from nltk.corpus import stopwords\n",
    "from nltk.tokenize import word_tokenize\n",
    "from nltk.stem import WordNetLemmatizer\n",
    "import string\n",
    "import re\n",
    "# Downloading the \"punkt\" tokenizer\n",
    "nltk.download('punkt')\n",
    "# Downloading \"wordnet\" for lemmatization\n",
    "nltk.download('wordnet')\n",
    "# Downloading the list of stopwords\n",
    "nltk.download('stopwords')\n",
    "# Creating the lemmatizer\n",
    "lemmatizer = WordNetLemmatizer()\n",
    "# Creating the set of English stopwords\n",
    "stop_words = set(stopwords.words('english'))"
   ]
  },
  {
   "cell_type": "code",
   "execution_count": 84,
   "id": "e918a0b5-4085-4ded-a6ac-aff0ed59ac59",
   "metadata": {},
   "outputs": [],
   "source": [
    "# Definition of the text preprocessing function\n",
    "def preprocess_text(text):\n",
    "    # Converting to lowercase\n",
    "    text = text.lower()\n",
    "\n",
    "    # Removing punctuation\n",
    "    text = text.translate(str.maketrans('', '', string.punctuation))\n",
    "\n",
    "    # Tokenization\n",
    "    word_tokens = word_tokenize(text)\n",
    "\n",
    "    # Removing stopwords and lemmatization\n",
    "    text = [lemmatizer.lemmatize(word) for word in word_tokens if word not in stop_words]\n",
    "    \n",
    "    return ' '.join(text)\n"
   ]
  },
  {
   "cell_type": "code",
   "execution_count": 86,
   "id": "df34477d-53aa-4711-ab44-355157b58528",
   "metadata": {},
   "outputs": [],
   "source": [
    "\n",
    "# Applying the preprocessing to the 'document' column of the DataFrame\n",
    "df['content'] = df['content'].apply(preprocess_text)"
   ]
  },
  {
   "cell_type": "code",
   "execution_count": 88,
   "id": "0a838cc5-9a87-459f-985b-1c5f7d04009d",
   "metadata": {},
   "outputs": [
    {
     "data": {
      "text/html": [
       "<div>\n",
       "<style scoped>\n",
       "    .dataframe tbody tr th:only-of-type {\n",
       "        vertical-align: middle;\n",
       "    }\n",
       "\n",
       "    .dataframe tbody tr th {\n",
       "        vertical-align: top;\n",
       "    }\n",
       "\n",
       "    .dataframe thead th {\n",
       "        text-align: right;\n",
       "    }\n",
       "</style>\n",
       "<table border=\"1\" class=\"dataframe\">\n",
       "  <thead>\n",
       "    <tr style=\"text-align: right;\">\n",
       "      <th></th>\n",
       "      <th>category</th>\n",
       "      <th>content</th>\n",
       "    </tr>\n",
       "  </thead>\n",
       "  <tbody>\n",
       "    <tr>\n",
       "      <th>0</th>\n",
       "      <td>business</td>\n",
       "      <td>quarterly profit u medium giant timewarner jum...</td>\n",
       "    </tr>\n",
       "    <tr>\n",
       "      <th>1</th>\n",
       "      <td>business</td>\n",
       "      <td>dollar hit highest level euro almost three mon...</td>\n",
       "    </tr>\n",
       "    <tr>\n",
       "      <th>2</th>\n",
       "      <td>business</td>\n",
       "      <td>owner embattled russian oil giant yukos ask bu...</td>\n",
       "    </tr>\n",
       "    <tr>\n",
       "      <th>3</th>\n",
       "      <td>business</td>\n",
       "      <td>british airway blamed high fuel price 40 drop ...</td>\n",
       "    </tr>\n",
       "    <tr>\n",
       "      <th>4</th>\n",
       "      <td>business</td>\n",
       "      <td>share uk drink food firm allied domecq risen s...</td>\n",
       "    </tr>\n",
       "    <tr>\n",
       "      <th>...</th>\n",
       "      <td>...</td>\n",
       "      <td>...</td>\n",
       "    </tr>\n",
       "    <tr>\n",
       "      <th>2220</th>\n",
       "      <td>tech</td>\n",
       "      <td>bt introducing two initiative help beat rogue ...</td>\n",
       "    </tr>\n",
       "    <tr>\n",
       "      <th>2221</th>\n",
       "      <td>tech</td>\n",
       "      <td>computer user across world continue ignore sec...</td>\n",
       "    </tr>\n",
       "    <tr>\n",
       "      <th>2222</th>\n",
       "      <td>tech</td>\n",
       "      <td>new european directive could put software writ...</td>\n",
       "    </tr>\n",
       "    <tr>\n",
       "      <th>2223</th>\n",
       "      <td>tech</td>\n",
       "      <td>man making sure u computer network safe secure...</td>\n",
       "    </tr>\n",
       "    <tr>\n",
       "      <th>2224</th>\n",
       "      <td>tech</td>\n",
       "      <td>online role playing game timeconsuming enthral...</td>\n",
       "    </tr>\n",
       "  </tbody>\n",
       "</table>\n",
       "<p>2225 rows × 2 columns</p>\n",
       "</div>"
      ],
      "text/plain": [
       "      category                                            content\n",
       "0     business  quarterly profit u medium giant timewarner jum...\n",
       "1     business  dollar hit highest level euro almost three mon...\n",
       "2     business  owner embattled russian oil giant yukos ask bu...\n",
       "3     business  british airway blamed high fuel price 40 drop ...\n",
       "4     business  share uk drink food firm allied domecq risen s...\n",
       "...        ...                                                ...\n",
       "2220      tech  bt introducing two initiative help beat rogue ...\n",
       "2221      tech  computer user across world continue ignore sec...\n",
       "2222      tech  new european directive could put software writ...\n",
       "2223      tech  man making sure u computer network safe secure...\n",
       "2224      tech  online role playing game timeconsuming enthral...\n",
       "\n",
       "[2225 rows x 2 columns]"
      ]
     },
     "execution_count": 88,
     "metadata": {},
     "output_type": "execute_result"
    }
   ],
   "source": [
    "df"
   ]
  },
  {
   "cell_type": "markdown",
   "id": "f106a239-1db9-4ab8-b854-fe46687dc10d",
   "metadata": {},
   "source": [
    "## Test and Train split "
   ]
  },
  {
   "cell_type": "code",
   "execution_count": 92,
   "id": "32afc0dd-ae51-486e-aa03-9e942088e74a",
   "metadata": {},
   "outputs": [],
   "source": [
    "train_df, test_df = train_test_split(df, test_size=0.2, random_state=42)"
   ]
  },
  {
   "cell_type": "code",
   "execution_count": 102,
   "id": "2e12f956-9a2d-4ebd-a2bb-13a32d67bc57",
   "metadata": {},
   "outputs": [
    {
     "name": "stdout",
     "output_type": "stream",
     "text": [
      "Shape of train is: (1780, 2)\n",
      "Shape of test is: (445, 2)\n"
     ]
    }
   ],
   "source": [
    "print(f\"Shape of train is: {train_df.shape}\")\n",
    "print(f\"Shape of test is: {test_df.shape}\")"
   ]
  },
  {
   "cell_type": "markdown",
   "id": "9d735927-7bcc-4387-b65f-929119873a3c",
   "metadata": {},
   "source": [
    "## Feature Extraction using TF-IDF\n"
   ]
  },
  {
   "cell_type": "markdown",
   "id": "33fb82af-0d87-400a-85c7-1ebdddef7d02",
   "metadata": {},
   "source": [
    "Import necessary library"
   ]
  },
  {
   "cell_type": "code",
   "execution_count": 109,
   "id": "fed24ce6-d57c-4e19-88e3-5c833c24ec77",
   "metadata": {},
   "outputs": [],
   "source": [
    "from sklearn.feature_extraction.text import TfidfVectorizer"
   ]
  },
  {
   "cell_type": "code",
   "execution_count": 121,
   "id": "43cad5c5-8c87-4748-b90a-c740610ec699",
   "metadata": {},
   "outputs": [],
   "source": [
    "# Initialize the vector \n",
    "tfidf = TfidfVectorizer()\n",
    "\n",
    "\n",
    "X_train = tfidf.fit_transform(train_df['content'])\n",
    "\n",
    "# transform test data using yhe same vector\n",
    "X_test = tfidf.transform(test_df['content'])\n",
    "\n",
    "# labels\n",
    "y_train = train_df['category']\n",
    "y_test = test_df['category']\n"
   ]
  },
  {
   "cell_type": "code",
   "execution_count": 123,
   "id": "affecee8-1935-4398-9553-0abf1fec7c1b",
   "metadata": {},
   "outputs": [
    {
     "data": {
      "text/plain": [
       "(1780, 27364)"
      ]
     },
     "execution_count": 123,
     "metadata": {},
     "output_type": "execute_result"
    }
   ],
   "source": [
    "X_train.shape"
   ]
  },
  {
   "cell_type": "markdown",
   "id": "2aabf5b2-3fd8-4c62-b62e-c543b65880d0",
   "metadata": {},
   "source": [
    "## Classification using Support Vector Machine"
   ]
  },
  {
   "cell_type": "markdown",
   "id": "c590f821-b08d-4c68-9a7a-02ade8bea081",
   "metadata": {},
   "source": [
    "Import necessary library"
   ]
  },
  {
   "cell_type": "code",
   "execution_count": 147,
   "id": "bd30d835-c0eb-4c0e-a68d-02c04ae3ce33",
   "metadata": {},
   "outputs": [],
   "source": [
    "from sklearn.svm import SVC\n",
    "from sklearn.metrics import accuracy_score, precision_score, recall_score, f1_score\n",
    "from sklearn.metrics import classification_report\n"
   ]
  },
  {
   "cell_type": "code",
   "execution_count": 140,
   "id": "a04a9488-77b1-4cd6-8fb8-813ed3ed6538",
   "metadata": {},
   "outputs": [
    {
     "name": "stdout",
     "output_type": "stream",
     "text": [
      "Precision: 0.9731270824509539\n",
      "Recall: 0.9730337078651685\n",
      "F1 Score: 0.9730563570291478\n"
     ]
    }
   ],
   "source": [
    "# Create and configure the SVM classifier\n",
    "svm_model = SVC(kernel='linear', C=1.0, random_state=42)\n",
    "\n",
    "# Train the model using the training data\n",
    "svm_model.fit(X_train, y_train)\n",
    "\n",
    "# Generate predictions on the test set\n",
    "predictions = svm_model.predict(X_test)\n",
    "\n",
    "# Compute performance metrics\n",
    "acc = accuracy_score(y_test, predictions)\n",
    "prec = precision_score(y_test, predictions, average='weighted')\n",
    "rec = recall_score(y_test, predictions, average='weighted')\n",
    "f1 = f1_score(y_test, predictions, average='weighted')\n",
    "\n",
    "# Output the results\n",
    "print(f\"Precision: {prec}\")\n",
    "print(f\"Recall: {rec}\")\n",
    "print(f\"F1 Score: {f1}\")\n"
   ]
  },
  {
   "cell_type": "code",
   "execution_count": 149,
   "id": "aee741bd-2d23-4182-a23a-3bc1df2b51c7",
   "metadata": {},
   "outputs": [
    {
     "name": "stdout",
     "output_type": "stream",
     "text": [
      "               precision    recall  f1-score     support\n",
      "business        0.964912  0.956522  0.960699  115.000000\n",
      "entertainment   0.972222  0.972222  0.972222   72.000000\n",
      "politics        0.948052  0.960526  0.954248   76.000000\n",
      "sport           1.000000  0.990196  0.995074  102.000000\n",
      "tech            0.975309  0.987500  0.981366   80.000000\n",
      "accuracy        0.973034  0.973034  0.973034    0.973034\n",
      "macro avg       0.972099  0.973393  0.972722  445.000000\n",
      "weighted avg    0.973127  0.973034  0.973056  445.000000\n"
     ]
    }
   ],
   "source": [
    "# Create a detailed classification report\n",
    "class_report = classification_report(y_test, predictions, output_dict=True)\n",
    "\n",
    "# Convert the report dictionary into a DataFrame\n",
    "report_df = pd.DataFrame(class_report).T\n",
    "\n",
    "# Print the DataFrame containing precision, recall, and F1-score per class\n",
    "print(report_df)\n"
   ]
  },
  {
   "cell_type": "code",
   "execution_count": 195,
   "id": "b07bba38-fcc6-4a25-b3b3-32171cab791f",
   "metadata": {},
   "outputs": [
    {
     "data": {
      "text/html": [
       "<div>\n",
       "<style scoped>\n",
       "    .dataframe tbody tr th:only-of-type {\n",
       "        vertical-align: middle;\n",
       "    }\n",
       "\n",
       "    .dataframe tbody tr th {\n",
       "        vertical-align: top;\n",
       "    }\n",
       "\n",
       "    .dataframe thead th {\n",
       "        text-align: right;\n",
       "    }\n",
       "</style>\n",
       "<table border=\"1\" class=\"dataframe\">\n",
       "  <thead>\n",
       "    <tr style=\"text-align: right;\">\n",
       "      <th></th>\n",
       "      <th>precision</th>\n",
       "      <th>recall</th>\n",
       "      <th>f1-score</th>\n",
       "      <th>support</th>\n",
       "    </tr>\n",
       "  </thead>\n",
       "  <tbody>\n",
       "    <tr>\n",
       "      <th>business</th>\n",
       "      <td>0.964912</td>\n",
       "      <td>0.956522</td>\n",
       "      <td>0.960699</td>\n",
       "      <td>115.000000</td>\n",
       "    </tr>\n",
       "    <tr>\n",
       "      <th>entertainment</th>\n",
       "      <td>0.972222</td>\n",
       "      <td>0.972222</td>\n",
       "      <td>0.972222</td>\n",
       "      <td>72.000000</td>\n",
       "    </tr>\n",
       "    <tr>\n",
       "      <th>politics</th>\n",
       "      <td>0.948052</td>\n",
       "      <td>0.960526</td>\n",
       "      <td>0.954248</td>\n",
       "      <td>76.000000</td>\n",
       "    </tr>\n",
       "    <tr>\n",
       "      <th>sport</th>\n",
       "      <td>1.000000</td>\n",
       "      <td>0.990196</td>\n",
       "      <td>0.995074</td>\n",
       "      <td>102.000000</td>\n",
       "    </tr>\n",
       "    <tr>\n",
       "      <th>tech</th>\n",
       "      <td>0.975309</td>\n",
       "      <td>0.987500</td>\n",
       "      <td>0.981366</td>\n",
       "      <td>80.000000</td>\n",
       "    </tr>\n",
       "    <tr>\n",
       "      <th>accuracy</th>\n",
       "      <td>0.973034</td>\n",
       "      <td>0.973034</td>\n",
       "      <td>0.973034</td>\n",
       "      <td>0.973034</td>\n",
       "    </tr>\n",
       "    <tr>\n",
       "      <th>macro avg</th>\n",
       "      <td>0.972099</td>\n",
       "      <td>0.973393</td>\n",
       "      <td>0.972722</td>\n",
       "      <td>445.000000</td>\n",
       "    </tr>\n",
       "    <tr>\n",
       "      <th>weighted avg</th>\n",
       "      <td>0.973127</td>\n",
       "      <td>0.973034</td>\n",
       "      <td>0.973056</td>\n",
       "      <td>445.000000</td>\n",
       "    </tr>\n",
       "  </tbody>\n",
       "</table>\n",
       "</div>"
      ],
      "text/plain": [
       "               precision    recall  f1-score     support\n",
       "business        0.964912  0.956522  0.960699  115.000000\n",
       "entertainment   0.972222  0.972222  0.972222   72.000000\n",
       "politics        0.948052  0.960526  0.954248   76.000000\n",
       "sport           1.000000  0.990196  0.995074  102.000000\n",
       "tech            0.975309  0.987500  0.981366   80.000000\n",
       "accuracy        0.973034  0.973034  0.973034    0.973034\n",
       "macro avg       0.972099  0.973393  0.972722  445.000000\n",
       "weighted avg    0.973127  0.973034  0.973056  445.000000"
      ]
     },
     "execution_count": 195,
     "metadata": {},
     "output_type": "execute_result"
    }
   ],
   "source": [
    "report_df"
   ]
  },
  {
   "cell_type": "markdown",
   "id": "8b45afe9-548f-4e59-9938-84ee2c06f11a",
   "metadata": {},
   "source": [
    "## Prediction "
   ]
  },
  {
   "cell_type": "code",
   "execution_count": 155,
   "id": "e5ad06ff-668c-4572-8b03-53129c24c5c7",
   "metadata": {},
   "outputs": [
    {
     "name": "stdout",
     "output_type": "stream",
     "text": [
      "Document: uk house price dipped slightly november office deputy prime minister odpm said average house price f...\n",
      "Actual Label: business\n",
      "Predicted Label: business\n",
      "\n",
      "\n",
      "Document: london stock exchange lse planning announce preferred takeover end month newspaper report claim sund...\n",
      "Actual Label: business\n",
      "Predicted Label: business\n",
      "\n",
      "\n",
      "Document: number eight imanol harinordoquy dropped france squad six nation match ireland dublin 12 march harin...\n",
      "Actual Label: sport\n",
      "Predicted Label: sport\n",
      "\n",
      "\n",
      "Document: share uk banking group barclays risen monday following weekend press report held merger talk u bank ...\n",
      "Actual Label: business\n",
      "Predicted Label: business\n",
      "\n",
      "\n",
      "Document: labour conservative still telephoning million people signed make sure get marketing cold call party ...\n",
      "Actual Label: politics\n",
      "Predicted Label: politics\n",
      "\n",
      "\n",
      "Document: glenn hoddle unveiled new wolf manager exengland coach given sixmonth contract succeed dave jones sa...\n",
      "Actual Label: sport\n",
      "Predicted Label: sport\n",
      "\n",
      "\n",
      "Document: daniela hantuchova moved quarterfinal dubai open beating elene likhotseva russia 75 64 face serena w...\n",
      "Actual Label: sport\n",
      "Predicted Label: sport\n",
      "\n",
      "\n",
      "Document: uk airport operator baa reiterated support government aviation expansion plan airport throughout cou...\n",
      "Actual Label: politics\n",
      "Predicted Label: politics\n",
      "\n",
      "\n",
      "Document: mark 60th anniversary birth reggae star bob marley rob partridge marley former head press island rec...\n",
      "Actual Label: entertainment\n",
      "Predicted Label: entertainment\n",
      "\n",
      "\n",
      "Document: three labour councillor birmingham caught operating voterigging factory election court heard police ...\n",
      "Actual Label: politics\n",
      "Predicted Label: politics\n",
      "\n",
      "\n"
     ]
    }
   ],
   "source": [
    "sample_test_documents = test_df['content'].iloc[:10]\n",
    "sample_test_labels = test_df['category'].iloc[:10]\n",
    "\n",
    "# Transforming the samples into TF-IDF vectors\n",
    "sample_test_vectors = vectorizer.transform(sample_test_documents)\n",
    "\n",
    "# Making predictions on the samples\n",
    "sample_predictions = classifier.predict(sample_test_vectors)\n",
    "\n",
    "# Displaying the actual and predicted labels\n",
    "for i in range(len(sample_test_labels)):\n",
    "    print(f\"Document: {sample_test_documents.iloc[i][:100]}...\")  # Displaying the first 100 characters\n",
    "    print(f\"Actual Label: {sample_test_labels.iloc[i]}\")\n",
    "    print(f\"Predicted Label: {sample_predictions[i]}\")\n",
    "    print(\"\\n\")\n"
   ]
  },
  {
   "cell_type": "markdown",
   "id": "c01104d3-32cc-416c-a9e7-be9e7cf3ce88",
   "metadata": {},
   "source": [
    "## Confusion matrix"
   ]
  },
  {
   "cell_type": "markdown",
   "id": "69c1ce6b-ab91-41dd-b797-8b2aceae3a98",
   "metadata": {},
   "source": [
    "Import necessair library"
   ]
  },
  {
   "cell_type": "code",
   "execution_count": 162,
   "id": "3e78ef7a-ad4b-4697-ab56-03bd3f016ce4",
   "metadata": {},
   "outputs": [],
   "source": [
    "import seaborn as sns\n",
    "import matplotlib.pyplot as plt\n",
    "from sklearn.metrics import confusion_matrix"
   ]
  },
  {
   "cell_type": "code",
   "execution_count": 165,
   "id": "73d6b7fc-1159-4156-918a-c0cff9c6265a",
   "metadata": {},
   "outputs": [],
   "source": [
    "conf_mat = confusion_matrix(y_test, y_pred)"
   ]
  },
  {
   "cell_type": "code",
   "execution_count": 179,
   "id": "8e65c9b4-845b-4ca9-8e9d-052b4decc088",
   "metadata": {},
   "outputs": [
    {
     "data": {
      "image/png": "[encoded data removed]",
      "text/plain": [
       "<Figure size 1000x1000 with 2 Axes>"
      ]
     },
     "metadata": {},
     "output_type": "display_data"
    }
   ],
   "source": [
    "plt.figure(figsize=(10, 10))\n",
    "sns.heatmap(conf_mat, annot=True, fmt='d',\n",
    "            xticklabels=labels, yticklabels=labels,\n",
    "            cmap='Blues')  # palette claire\n",
    "\n",
    "plt.xlabel('Predicted')\n",
    "plt.ylabel('Actual')\n",
    "plt.title('Confusion Matrix of the SVM classifier')\n",
    "plt.show()\n"
   ]
  },
  {
   "cell_type": "code",
   "execution_count": null,
   "id": "f8783705-dd4b-4c66-9dbd-088d84c116b2",
   "metadata": {},
   "outputs": [],
   "source": []
  }
 ],
 "metadata": {
  "kernelspec": {
   "display_name": "Python 3 (ipykernel)",
   "language": "python",
   "name": "python3"
  },
  "language_info": {
   "codemirror_mode": {
    "name": "ipython",
    "version": 3
   },
   "file_extension": ".py",
   "mimetype": "text/x-python",
   "name": "python",
   "nbconvert_exporter": "python",
   "pygments_lexer": "ipython3",
   "version": "3.12.3"
  }
 },
 "nbformat": 4,
 "nbformat_minor": 5
}
